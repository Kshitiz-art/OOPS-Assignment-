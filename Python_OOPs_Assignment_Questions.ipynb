{
  "nbformat": 4,
  "nbformat_minor": 0,
  "metadata": {
    "colab": {
      "provenance": []
    },
    "kernelspec": {
      "name": "python3",
      "display_name": "Python 3"
    },
    "language_info": {
      "name": "python"
    }
  },
  "cells": [
    {
      "cell_type": "markdown",
      "source": [
        "Que 1 What is Object-Oriented Programming (OOP)+\n",
        "\n",
        "Ans Object-Oriented Programming (OOP) is a programming paradigm that uses objects to design software. Here’s a quick rundown:\n",
        "\n",
        "Objects: These are instances of classes. Each object can contain data\n",
        "\n",
        "---\n",
        "\n",
        "(attributes) and methods (functions) that act on the data.\n",
        "\n",
        "Classes: Templates or blueprints for objects. A class defines attributes and methods that the objects created from it will have.\n",
        "\n",
        "Encapsulation: Bundling data and methods that operate on the data within a single unit or class, restricting access to some of the object's components.\n",
        "\n",
        "Inheritance: The ability to create new classes based on existing ones, inheriting attributes and methods from the parent class. This promotes code reuse.\n",
        "\n",
        "Polymorphism: The ability to redefine methods in derived classes. It allows objects to be treated as instances of their parent class, enabling flexibility and integration.\n",
        "\n",
        "Abstraction: Hiding complex implementation details and showing only the essential features of the object.\n",
        "\n",
        "OOP aims to make code more modular, reusable, and scalable. It's used in languages such as Java, C++, Python, and Ruby.\n"
      ],
      "metadata": {
        "id": "wMXEo6bDzA45"
      }
    },
    {
      "cell_type": "markdown",
      "source": [
        "Que 2 What is a class in OOP+\n",
        "\n",
        "---\n",
        "\n",
        "Ans A class in Object-Oriented Programming (OOP) is a blueprint or template for creating objects. It defines a set of attributes (data) and methods (functions) that the objects created from the class will have. Here's a simple breakdown:\n",
        "\n",
        "Attributes: These are the properties or characteristics of a class. For example, if you have a Car class, its attributes could include color, make, model, and year.\n",
        "\n",
        "Methods: These are the functions or behaviors that a class can perform. Continuing with the Car class example, methods could include start(), stop(), accelerate(), and brake().\n",
        "\n",
        "When you create an instance of a class, you create an object. Each object can have its own unique values for the attributes defined by the class, but all objects of that class will have the same methods.\n"
      ],
      "metadata": {
        "id": "IFc7E1LTzIKx"
      }
    },
    {
      "cell_type": "markdown",
      "source": [
        "Que 3  What is an object in OOP+\n",
        "\n",
        "---\n",
        "\n",
        "Ans An object in Object-Oriented Programming (OOP) is an instance of a class. An object is a self-contained component that contains attributes (data) and methods (functions) that define the behavior and properties of the class it belongs to. Here's a closer look:\n",
        "\n",
        "Attributes: These are the data or properties of the object. For instance, if you have a Car class, an object of this class might have attributes like color, make, model, and year.\n",
        "\n",
        "Methods: These are the functions or behaviors that the object can perform. For the Car class example, methods could include start(), stop(), accelerate(), and brake().\n",
        "\n",
        "Objects interact with one another and with their environment. They encapsulate their data and behavior, which makes the code more modular and easier to manage."
      ],
      "metadata": {
        "id": "D7okW_xrzOtE"
      }
    },
    {
      "cell_type": "markdown",
      "source": [
        "Que 4 What is the difference between abstraction and encapsulation+\n",
        "\n",
        "---\n",
        "\n",
        "Ans  Abstraction and encapsulation are both fundamental concepts in Object-Oriented Programming (OOP), but they serve different purposes. Here's a breakdown of their differences:\n",
        "\n",
        "Abstraction:\n",
        "Purpose: To hide complex implementation details and show only the essential features of an object.\n",
        "\n",
        "Focus: On the what an object does rather than how it does it.\n",
        "\n",
        "Implementation: Achieved through abstract classes and interfaces. It allows developers to work with higher-level concepts without worrying about the details.\n",
        "\n",
        "Example: Imagine you have a Vehicle class with an abstract method move(). Specific vehicle types like Car, Bike, and Boat would implement the move() method differently, but from a user's perspective, they just need to know that they can call move() on any vehicle.\n",
        "\n",
        "Encapsulation:\n",
        "Purpose: To bundle data (attributes) and methods (functions) that operate on the data into a single unit, and restrict access to some components.\n",
        "\n",
        "Focus: On protecting the internal state of an object and ensuring that it can only be changed through well-defined methods.\n",
        "\n",
        "Implementation: Achieved through access modifiers (e.g., private, protected, public) that control the visibility of attributes and methods.\n",
        "\n",
        "Example: In the Car class, you might have private attributes like speed and fuelLevel. These attributes can only be accessed or modified through public methods like getSpeed(), setSpeed(), refuel(), etc.\n",
        "\n",
        "To sum it up:\n",
        "\n",
        "Abstraction: Focuses on the broader functionality and hides complexity.\n",
        "\n",
        "Encapsulation: Protects the internal state and ensures controlled access to the object's attributes.\n"
      ],
      "metadata": {
        "id": "hneJAr6izRrE"
      }
    },
    {
      "cell_type": "markdown",
      "source": [
        "Que 5 What are dunder methods in Python+\n",
        "\n",
        "---\n",
        "\n",
        "ans Dunder methods, short for \"double underscore\" methods, are special methods in Python that have double underscores before and after their names (like __init__, __str__, __add__, etc.). They are also known as \"magic methods\" because they enable you to define the behavior of objects for built-in operations and functions.\n",
        "\n",
        "Here’s a brief rundown:\n",
        "\n",
        "Purpose: They allow you to customize how objects of your class behave. For example, you can define how your object should be initialized, represented as a string, compared, added, or subtracted.\n",
        "\n",
        "Examples:\n",
        "\n",
        "__init__(self, ...): Initializes the object (constructor).\n",
        "\n",
        "__str__(self): Defines how the object is represented as a string (e.g., for print()).\n",
        "\n",
        "__add__(self, other): Customizes the behavior of the + operator for your class.\n",
        "\n",
        "__len__(self): Specifies what len() should return for your object."
      ],
      "metadata": {
        "id": "lchQqnzRzT63"
      }
    },
    {
      "cell_type": "code",
      "source": [
        "\n",
        "class Example:\n",
        "    def __init__(self, value):\n",
        "        self.value = value\n",
        "\n",
        "    def __str__(self):\n",
        "        return f\"Example with value {self.value}\"\n",
        "\n",
        "    def __add__(self, other):\n",
        "        return Example(self.value + other.value)\n",
        "\n",
        "\n",
        "obj1 = Example(10)\n",
        "obj2 = Example(20)\n",
        "\n",
        "print(obj1)\n",
        "result = obj1 + obj2\n",
        "print"
      ],
      "metadata": {
        "colab": {
          "base_uri": "https://localhost:8080/"
        },
        "id": "FAillffxCGxK",
        "outputId": "63646ae8-f218-45c0-b882-971b35526ad1"
      },
      "execution_count": 4,
      "outputs": [
        {
          "output_type": "stream",
          "name": "stdout",
          "text": [
            "Example with value 10\n"
          ]
        },
        {
          "output_type": "execute_result",
          "data": {
            "text/plain": [
              "<function print(*args, sep=' ', end='\\n', file=None, flush=False)>"
            ]
          },
          "metadata": {},
          "execution_count": 4
        }
      ]
    },
    {
      "cell_type": "markdown",
      "source": [
        "Que 6 Explain the concept of inheritance in OOPH\n",
        "\n",
        "Ans ANSWER 6. Key Points about Inheritance:\n",
        "Parent and Child Classes:\n",
        "\n",
        "The parent class defines the general attributes and methods.\n",
        "\n",
        "The child class can use these attributes and methods as-is or override them to provide specialized behavior.\n",
        "\n",
        "Code Reusability:\n",
        "\n",
        "By using inheritance, common functionality can be written once in the parent class and reused in child classes, reducing code duplication.\n",
        "\n",
        "Types of Inheritance:\n",
        "\n",
        "Single Inheritance: One child class inherits from a single parent class.\n",
        "\n",
        "Multiple Inheritance: A child class inherits from more than one parent class.\n",
        "\n",
        "Multilevel Inheritance: A child class inherits from a parent class, which in turn is inherited by another child class.\n",
        "\n",
        "Hierarchical Inheritance: Multiple child classes inherit from the same parent class.\n",
        "\n",
        "Hybrid Inheritance: A combination of the above types.\n",
        "\n",
        "Example in Python:\n",
        "\n",
        "\n",
        "\n",
        "\n",
        "\n",
        "\n",
        "---\n",
        "\n"
      ],
      "metadata": {
        "id": "7vPbrHpKzVN9"
      }
    },
    {
      "cell_type": "code",
      "source": [
        "class Animal:\n",
        "    def speak(self):\n",
        "        print(\"This animal makes a sound.\")\n",
        "\n",
        "class Dog(Animal):\n",
        "    def speak(self):\n",
        "        print(\"Bark!\")\n",
        "\n",
        "class Animal:\n",
        "    def speak(self):\n",
        "        print(\"This animal makes a sound.\")\n",
        "\n",
        "class Dog(Animal):\n",
        "    def speak(self):\n",
        "        print(\"Bark!\")\n",
        "\n",
        "\n",
        "generic_animal = Animal()\n",
        "generic_animal.speak()\n",
        "\n",
        "dog = Dog()\n",
        "dog.speak()\n",
        "dog.speak()"
      ],
      "metadata": {
        "colab": {
          "base_uri": "https://localhost:8080/"
        },
        "id": "eDxhbtZsDEe-",
        "outputId": "5a3276e1-b2d4-45cd-ba64-c5c883b82c7a"
      },
      "execution_count": 6,
      "outputs": [
        {
          "output_type": "stream",
          "name": "stdout",
          "text": [
            "This animal makes a sound.\n",
            "Bark!\n",
            "Bark!\n"
          ]
        }
      ]
    },
    {
      "cell_type": "markdown",
      "source": [
        "Que 7 What is polymorphism in OOP+\n",
        "\n",
        "Ans Polymorphism, a core concept in Object-Oriented Programming (OOP), allows objects of different classes to be treated as objects of a common superclass. It enables a single interface to represent different underlying forms (hence the name \"poly-morphism,\" meaning \"many forms\"). Polymorphism enhances flexibility and reusability in code.\n",
        "\n",
        "Types of Polymorphism:\n",
        "Compile-Time Polymorphism (Static):\n",
        "\n",
        "Achieved through method overloading (methods with the same name but different parameters) or operator overloading.\n",
        "\n",
        "Example: Two methods with the same name in a class but differing by the number or type of arguments.\n",
        "\n",
        "Run-Time Polymorphism (Dynamic):\n",
        "\n",
        "Achieved through method overriding, where a subclass provides its own specific implementation of a method already defined in its parent class.\n",
        "\n",
        "Example: A parent class reference is used to call overridden methods in a child class.\n",
        "\n",
        "Example of polymorphism in python\n",
        "\n",
        "---\n",
        "\n"
      ],
      "metadata": {
        "id": "VTCNdCKKzWua"
      }
    },
    {
      "cell_type": "code",
      "source": [
        "\n",
        "class Animal:\n",
        "    def speak(self):\n",
        "        print(\"This animal makes a sound.\")\n",
        "\n",
        "\n",
        "class Dog(Animal):\n",
        "    def speak(self):\n",
        "        print(\"Bark!\")\n",
        "\n",
        "class Cat(Animal):\n",
        "    def speak(self):\n",
        "        print(\"Meow!\")\n",
        "\n",
        "\n",
        "animals = [Dog(), Cat()]\n",
        "\n",
        "for animal in animals:\n",
        "    animal.speak()\n"
      ],
      "metadata": {
        "colab": {
          "base_uri": "https://localhost:8080/"
        },
        "id": "XxcR3QpUDiux",
        "outputId": "ce374f85-a8b5-4cc7-8b86-6da8b4df589c"
      },
      "execution_count": 7,
      "outputs": [
        {
          "output_type": "stream",
          "name": "stdout",
          "text": [
            "Bark!\n",
            "Meow!\n"
          ]
        }
      ]
    },
    {
      "cell_type": "markdown",
      "source": [
        "Que 8 How is encapsulation achieved in Python+\n",
        "\n",
        "---\n",
        "\n",
        "Ans Encapsulation in Python is a fundamental concept in Object-Oriented Programming (OOP) used to restrict access to the internal details of an object and expose only what is necessary. It is achieved by bundling data (attributes) and methods (functions) that operate on the data within a class and controlling access to them.\n",
        "\n",
        "Key Aspects of Encapsulation:\n",
        "Access Control:\n",
        "\n",
        "Python provides three levels of access control for attributes and methods:\n",
        "\n",
        "Public (variable_name): Accessible anywhere.\n",
        "\n",
        "Protected (_variable_name): Accessible within the class and its subclasses (but still can be accessed outside the class as a convention in Python).\n",
        "\n",
        "Private (__variable_name): Not accessible directly outside the class, and used to hide implementation details. This is achieved by name mangling (e.g., __var is internally stored as _ClassName__var).\n",
        "\n",
        "Getter and Setter Methods:\n",
        "\n",
        "To enforce encapsulation, it’s common to use getter and setter methods. These methods allow controlled access to private attributes.\n",
        "\n",
        "Example of Encapsulation in Python:\n",
        "\n"
      ],
      "metadata": {
        "id": "9KP5ETI3zYmy"
      }
    },
    {
      "cell_type": "code",
      "source": [
        "class Employee:\n",
        "    def __init__(self, name, salary):\n",
        "        self.name = name\n",
        "        self.__salary = salary\n",
        "\n",
        "\n",
        "    def get_salary(self):\n",
        "        return self.__salary\n",
        "\n",
        "\n",
        "    def set_salary(self, new_salary):\n",
        "        if new_salary > 0:\n",
        "            self.__salary = new_salary\n",
        "        else:\n",
        "            print(\"Salary must be positive!\")\n",
        "\n",
        "\n",
        "emp = Employee(\"Kshitiz\", 50000)\n",
        "\n",
        "\n",
        "print(emp.name)\n",
        "\n",
        "\n",
        "print(emp.get_salary())\n",
        "\n",
        "\n",
        "emp.set_salary(60000)\n",
        "print(emp.get_salary())\n",
        "\n",
        "\n"
      ],
      "metadata": {
        "colab": {
          "base_uri": "https://localhost:8080/"
        },
        "id": "8ESHMvizD0dP",
        "outputId": "20f8d247-3876-4e2f-e476-1430c2a784ad"
      },
      "execution_count": 9,
      "outputs": [
        {
          "output_type": "stream",
          "name": "stdout",
          "text": [
            "Kshitiz\n",
            "50000\n",
            "60000\n"
          ]
        }
      ]
    },
    {
      "cell_type": "markdown",
      "source": [
        "Que 9 What is a constructor in Python+\n",
        "\n",
        "\n",
        "---\n",
        "Ans A constructor in Python is a special method used to initialize an object's attributes when it is created. It is defined using the __init__() method within a class. The constructor is automatically called when an instance of the class is created, making it the perfect place to set up an object's initial state (e.g., assigning values to its attributes).\n",
        "\n",
        "Key Features of a Constructor:\n",
        "Special Method: The __init__() method is a \"magic method\" (or dunder method) because of its double underscores.\n",
        "\n",
        "Automatic Execution: It is invoked automatically when a new object is instantiated.\n",
        "\n",
        "Optional Parameters: You can define parameters in the constructor to pass data during object creation.\n",
        "\n",
        "Example of a Constructor in Python:\n"
      ],
      "metadata": {
        "id": "NLCalWa2zbLD"
      }
    },
    {
      "cell_type": "code",
      "source": [
        "class Person:\n",
        "    def __init__(self, name, age):\n",
        "\n",
        "        self.name = name\n",
        "        self.age = age\n",
        "\n",
        "    def display_info(self):\n",
        "        print(f\"Name: {self.name}, Age: {self.age}\")\n",
        "\n",
        "\n",
        "person1 = Person(\"Kshitiz\", 25)\n",
        "person2 = Person(\"Anjali\", 30)\n",
        "\n",
        "\n",
        "person1.display_info()\n",
        "person2.display_info()\n"
      ],
      "metadata": {
        "colab": {
          "base_uri": "https://localhost:8080/"
        },
        "id": "v3DdzSShEPXQ",
        "outputId": "038812c8-0654-4953-fc35-7ec5203478f8"
      },
      "execution_count": 10,
      "outputs": [
        {
          "output_type": "stream",
          "name": "stdout",
          "text": [
            "Name: Kshitiz, Age: 25\n",
            "Name: Anjali, Age: 30\n"
          ]
        }
      ]
    },
    {
      "cell_type": "markdown",
      "source": [
        "Que 10  What are class and static methods in Python+\n",
        "\n",
        "---\n",
        "Ans 1. Class Methods (@classmethod):\n",
        "A class method is bound to the class, not the instance of the class. It can access and modify the class's state (class variables), but it cannot directly interact with instance variables.\n",
        "\n",
        "Decorator: @classmethod\n",
        "\n",
        "First Parameter: cls (refers to the class itself, not the instance)\n",
        "\n",
        "When to Use:\n",
        "When you need to work with class variables or methods rather than instance-specific data.\n",
        "\n",
        "For factory methods that create instances in different ways.\n",
        "\n",
        "Example:\n",
        "\n",
        "2. Static Methods (@staticmethod):\n",
        "A static method is not bound to the instance or the class. It doesn't take self or cls as a parameter and cannot modify the state of the instance or the class.\n",
        "\n",
        "Decorator: @staticmethod\n",
        "\n",
        "First Parameter: None (it doesn't need self or cls).\n",
        "\n",
        "When to Use:\n",
        "When the method doesn't interact with class or instance data but logically belongs to the class.\n",
        "\n",
        "For utility functions (e.g., data processing, calculations).\n",
        "\n",
        "Example:\n",
        "\n"
      ],
      "metadata": {
        "id": "sfhiHSHYzhto"
      }
    },
    {
      "cell_type": "code",
      "source": [
        "class MyClass:\n",
        "    class_variable = \"Hello, World!\"\n",
        "\n",
        "    @classmethod\n",
        "    def class_method(cls):\n",
        "        print(f\"Class variable: {cls.class_variable}\")\n",
        "\n",
        "\n",
        "MyClass.class_method()\n"
      ],
      "metadata": {
        "colab": {
          "base_uri": "https://localhost:8080/"
        },
        "id": "oLiINH43EjpN",
        "outputId": "8124478e-031f-49d0-8a87-5cb5b81b8693"
      },
      "execution_count": 11,
      "outputs": [
        {
          "output_type": "stream",
          "name": "stdout",
          "text": [
            "Class variable: Hello, World!\n"
          ]
        }
      ]
    },
    {
      "cell_type": "code",
      "source": [
        "class MyClass:\n",
        "    @staticmethod\n",
        "    def static_method():\n",
        "        print(\"This is a static method!\")\n",
        "\n",
        "# Usage\n",
        "MyClass.static_method()  # Output: This is a static method!\n",
        "\n"
      ],
      "metadata": {
        "colab": {
          "base_uri": "https://localhost:8080/"
        },
        "id": "6R9WcUoJE0I_",
        "outputId": "fde4bffe-0a1a-4b19-a27c-65b71ac646f3"
      },
      "execution_count": 12,
      "outputs": [
        {
          "output_type": "stream",
          "name": "stdout",
          "text": [
            "This is a static method!\n"
          ]
        }
      ]
    },
    {
      "cell_type": "markdown",
      "source": [
        "Que 11 What is method overloading in Python+\n",
        "\n",
        "---\n",
        "Ans In Python, method overloading refers to the ability to define multiple methods with the same name but different parameter lists. Unlike some other programming languages (like Java or C++), Python does not support method overloading natively. However, you can achieve similar behavior using techniques like default arguments or by manually handling multiple argument types in a single method.\n",
        "\n",
        "Simulating Method Overloading in Python:\n",
        "You can use default arguments to achieve method overloading-like behavior. Here’s an example:\n",
        "\n"
      ],
      "metadata": {
        "id": "UkntFk96ziWM"
      }
    },
    {
      "cell_type": "code",
      "source": [
        "class Calculator:\n",
        "    def multiply(self, a, b=1):\n",
        "        return a * b\n",
        "\n",
        "calc = Calculator()\n",
        "print(calc.multiply(5))\n",
        "print(calc.multiply(5, 10))\n"
      ],
      "metadata": {
        "colab": {
          "base_uri": "https://localhost:8080/"
        },
        "id": "ox2-x0iFGDKD",
        "outputId": "f6db9876-cc45-4499-dfbc-a77fcada04e8"
      },
      "execution_count": 13,
      "outputs": [
        {
          "output_type": "stream",
          "name": "stdout",
          "text": [
            "5\n",
            "50\n"
          ]
        }
      ]
    },
    {
      "cell_type": "markdown",
      "source": [
        "Que 12 What is method overriding in OOP+\n",
        "\n",
        "---\n",
        "\n",
        "Ans Method overriding is a concept in Object-Oriented Programming (OOP) where a subclass (child class) provides a specific implementation of a method that is already defined in its superclass (parent class). The overridden method in the child class must have the same name, parameters, and return type (if applicable) as the method in the parent class.\n",
        "\n",
        "Key Features of Method Overriding:\n",
        "Same Method Signature:\n",
        "\n",
        "The method in the child class must match the name and arguments of the method in the parent class.\n",
        "\n",
        "Dynamic (Run-Time) Polymorphism:\n",
        "\n",
        "Method overriding is an example of dynamic polymorphism because the method that gets called is determined at runtime, based on the type of the object.\n",
        "\n",
        "Customization:\n",
        "\n",
        "It allows a subclass to modify or extend the behavior of the parent class method to suit its needs.\n",
        "\n",
        "Super Keyword:\n",
        "\n",
        "The super() function can be used to call the parent class's version of the method from the child class.\n",
        "\n",
        "Example of Method Overriding in Python:"
      ],
      "metadata": {
        "id": "Jd_Qn4HPzjOh"
      }
    },
    {
      "cell_type": "code",
      "source": [
        "\n",
        "class Animal:\n",
        "    def speak(self):\n",
        "        print(\"This animal makes a sound.\")\n",
        "\n",
        "class Dog(Animal):\n",
        "    def speak(self):\n",
        "        print(\"Bark!\")\n",
        "\n",
        "\n",
        "animal = Animal()\n",
        "animal.speak()\n",
        "\n",
        "dog = Dog()\n",
        "dog.speak()\n"
      ],
      "metadata": {
        "colab": {
          "base_uri": "https://localhost:8080/"
        },
        "id": "7tuspeRRGTC0",
        "outputId": "d5b044b2-5f4c-4a4c-9e77-fcc2e48199f7"
      },
      "execution_count": 14,
      "outputs": [
        {
          "output_type": "stream",
          "name": "stdout",
          "text": [
            "This animal makes a sound.\n",
            "Bark!\n"
          ]
        }
      ]
    },
    {
      "cell_type": "markdown",
      "source": [
        "Que 13 What is a property decorator in Python+\n",
        "\n",
        "---\n",
        "Ans In Python, a property decorator (@property) is used to define a method that behaves like an attribute. It allows you to control access to a class attribute while keeping the syntax clean and readable.\n"
      ],
      "metadata": {
        "id": "M03W2wytzjyL"
      }
    },
    {
      "cell_type": "code",
      "source": [
        "class Person:\n",
        "    def __init__(self, name):\n",
        "        self._name = name\n",
        "\n",
        "    @property\n",
        "    def name(self):\n",
        "        return self._name\n",
        "\n",
        "p = Person(\"Alice\")\n",
        "print(p.name)\n"
      ],
      "metadata": {
        "colab": {
          "base_uri": "https://localhost:8080/"
        },
        "id": "ThrB2NkOHHio",
        "outputId": "69af4370-de25-4f95-daac-cf015a08625e"
      },
      "execution_count": 15,
      "outputs": [
        {
          "output_type": "stream",
          "name": "stdout",
          "text": [
            "Alice\n"
          ]
        }
      ]
    },
    {
      "cell_type": "markdown",
      "source": [
        "Que 14 Why is polymorphism important in OOP+\n",
        "\n",
        "---\n",
        "Ans Polymorphism allows flexibility and scalability by enabling different classes to be treated as one. It helps in code reusability and maintainability.\n",
        "\n",
        "\n",
        "\n"
      ],
      "metadata": {
        "id": "Qp0kne9PzkhA"
      }
    },
    {
      "cell_type": "markdown",
      "source": [
        "Que 15 What is an abstract class in Python+\n",
        "\n",
        "---\n",
        "Ans An abstract class cannot be instantiated and must have at least one abstract method.\n",
        "\n",
        "Example:\n",
        "\n"
      ],
      "metadata": {
        "id": "nCdtDa2Dzk-u"
      }
    },
    {
      "cell_type": "code",
      "source": [
        "from abc import ABC, abstractmethod\n",
        "\n",
        "class Animal(ABC):\n",
        "    @abstractmethod\n",
        "    def speak(self):\n",
        "        pass\n"
      ],
      "metadata": {
        "id": "2pK1AUCuHpZt"
      },
      "execution_count": 21,
      "outputs": []
    },
    {
      "cell_type": "markdown",
      "source": [
        "Que 16 What are the advantages of OOP+\n",
        "\n",
        "\n",
        "Ans ✅ 1. Code Reusability (Inheritance)\n",
        "\n",
        "OOP allows you to reuse existing code by inheriting properties and methods from parent classes.\n",
        "Example: A Vehicle class can be inherited by Car and Bike classes, reducing duplicate code.\n",
        "✅ 2. Encapsulation (Data Hiding & Security)\n",
        "\n",
        "Sensitive data can be protected by making attributes private using __.\n",
        "Example: A BankAccount class can hide the balance and only allow controlled access through methods.\n",
        "✅ 3. Polymorphism (Flexibility & Extensibility)\n",
        "\n",
        "A single interface can be used for different types of objects, making the code more flexible.\n",
        "Example: A draw() method in a Shape class can be used for both Circle and Rectangle.\n",
        "✅ 4. Abstraction (Simplifies Complex Systems)\n",
        "\n",
        "Hides complex details and exposes only necessary functionality.\n",
        "Example: A Car class can have a drive() method without exposing engine details.\n",
        "✅ 5. Scalability & Maintainability\n",
        "\n",
        "Since code is modular, it’s easier to update, scale, and maintain over time.\n",
        "Large projects become more manageable due to clear class structures.\n",
        "✅ 6. Modularity (Dividing Code into Small Parts)\n",
        "\n",
        "Classes act as independent modules, making debugging and testing easier.\n",
        "Example: Different teams can work on different modules like User, Order, and Payment.\n",
        "✅ 7. Real-World Mapping\n",
        "\n",
        "OOP models real-world objects and behaviors, making it more intuitive to design applications.\n",
        "Example: A Student class with name, age, and grades attributes resembles real-world students.\n",
        "✅ 8. Dynamic & Extensible Applications\n",
        "\n",
        "Applications can be expanded easily by adding new classes without modifying existing code.\n",
        "\n",
        "\n",
        "\n",
        "\n",
        "\n"
      ],
      "metadata": {
        "id": "AdAmLArrzl_A"
      }
    },
    {
      "cell_type": "markdown",
      "source": [
        "Que 17 What is the difference between a class variable and an instance variable+\n",
        "\n",
        "Ans (A) Class Variable\n",
        "\n",
        "    \n",
        "1 A variable shared across all instances of a class.\n",
        "2 Inside the class but outside any method.\n",
        "3 ClassName.variable_name or self.variable_name.\n",
        "4 Yes, all objects share the same value.\n",
        "5 Changing it affects all instances.\n",
        "\n",
        "  \n",
        "(B) Instance Variable\n",
        "\n",
        "1 A variable unique to each object (instance).\n",
        "2 Inside the __init__ constructor method.\n",
        "3 Only accessed through self.variable_name.\n",
        "4 No, each object has its own value.\n",
        "5 Changing it affects only that specific instance."
      ],
      "metadata": {
        "id": "X9WcYWMazmni"
      }
    },
    {
      "cell_type": "markdown",
      "source": [
        "Que 18 What is multiple inheritance in Python+\n",
        "\n",
        "---Ans Multiple inheritance is a feature in Python where a class can inherit from multiple parent classes. This allows a child class to access attributes and methods from more than one parent, promoting code reusability.\n",
        "\n"
      ],
      "metadata": {
        "id": "lwgnVk1ZznP4"
      }
    },
    {
      "cell_type": "code",
      "source": [
        "class Parent1:\n",
        "    def method1(self):\n",
        "        return \"Method from Parent1\"\n",
        "\n",
        "class Parent2:\n",
        "    def method2(self):\n",
        "        return \"Method from Parent2\"\n",
        "\n",
        "class Child(Parent1, Parent2):\n",
        "    def child_method(self):\n",
        "        return \"Method from Child\"\n",
        "\n",
        "\n",
        "obj = Child()\n",
        "print(obj.method1())\n",
        "print(obj.method2())\n",
        "print(obj.child_method())\n"
      ],
      "metadata": {
        "colab": {
          "base_uri": "https://localhost:8080/"
        },
        "id": "2gvXGZuxlVWP",
        "outputId": "ce39cc77-392c-4bae-dc5e-389dd3030237"
      },
      "execution_count": 1,
      "outputs": [
        {
          "output_type": "stream",
          "name": "stdout",
          "text": [
            "Method from Parent1\n",
            "Method from Parent2\n",
            "Method from Child\n"
          ]
        }
      ]
    },
    {
      "cell_type": "markdown",
      "source": [
        "Que 19  Explain the purpose of ‘’__str__’ and ‘__repr__’ ‘ methods in Python\n",
        "\n",
        "---Ans Both __str__ and __repr__ are dunder (double underscore) methods used to return string representations of an object, but they serve different purposes.\n",
        "\n",
        "1. __str__() – User-Friendly Representation\n",
        " . Used when you call str(object) or print(object).\n",
        " . Returns a human-readable string meant for end-users.\n",
        "\n",
        "2. __repr__() – Debugging & Development Representation\n",
        ". Used when you call repr(object), or when an object is displayed in the Python shell.\n",
        ". Returns an unambiguous string, ideally one that can recreate the object.\n"
      ],
      "metadata": {
        "id": "JXOUALTVzn3u"
      }
    },
    {
      "cell_type": "code",
      "source": [
        "#  __str__()\n",
        "\n",
        "class Person:\n",
        "    def __init__(self, name, age):\n",
        "        self.name = name\n",
        "        self.age = age\n",
        "\n",
        "    def __str__(self):\n",
        "        return f\"{self.name}, {self.age} years old\"\n",
        "\n",
        "p = Person(\"Kshitiz\", 21)\n",
        "print(p)  # Calls __str__()\n"
      ],
      "metadata": {
        "colab": {
          "base_uri": "https://localhost:8080/"
        },
        "id": "HXGac0bpl7ov",
        "outputId": "9dcf0005-bdf0-4e9f-c70e-6adcde7ae48b"
      },
      "execution_count": 5,
      "outputs": [
        {
          "output_type": "stream",
          "name": "stdout",
          "text": [
            "Kshitiz, 21 years old\n"
          ]
        }
      ]
    },
    {
      "cell_type": "code",
      "source": [
        "# __repr__() –\n",
        "\n",
        "\n",
        "class Person:\n",
        "    def __init__(self, name, age):\n",
        "        self.name = name\n",
        "        self.age = age\n",
        "\n",
        "    def __repr__(self):\n",
        "        return f\"Person('{self.name}', {self.age})\"\n",
        "\n",
        "p = Person(\"Kshitiz\", 21)\n",
        "print(repr(p))  # Calls __repr__()\n"
      ],
      "metadata": {
        "colab": {
          "base_uri": "https://localhost:8080/"
        },
        "id": "11yzjNxdmWWz",
        "outputId": "3dedb5e6-c1e4-42ad-8ef1-7863619d8837"
      },
      "execution_count": 4,
      "outputs": [
        {
          "output_type": "stream",
          "name": "stdout",
          "text": [
            "Person('Kshitiz', 21)\n"
          ]
        }
      ]
    },
    {
      "cell_type": "markdown",
      "source": [
        "Que 20 What is the significance of the ‘super()’ function in Python+\n",
        "\n",
        "---Ans The super() function is used in Python to call a method from the parent (superclass) in a child (subclass). It is especially useful in inheritance to avoid directly referencing the parent class, making code more maintainable and flexible.\n",
        "\n",
        "Why Use super()?\n",
        "✅ Allows calling parent class methods without explicitly naming the parent class.\n",
        "✅ Supports multiple inheritance by following Method Resolution Order (MRO).\n",
        "✅ Helps in avoiding redundant code and diamond problem in multiple inheritance.\n",
        "\n",
        "\n",
        "\n"
      ],
      "metadata": {
        "id": "rTtsFiZpzoaa"
      }
    },
    {
      "cell_type": "code",
      "source": [
        "#  Using super() in __init__() Constructor\n",
        "\n",
        "class Parent:\n",
        "    def __init__(self, name):\n",
        "        self.name = name\n",
        "        print(f\"Parent initialized with name: {self.name}\")\n",
        "\n",
        "class Child(Parent):\n",
        "    def __init__(self, name, age):\n",
        "        super().__init__(name)\n",
        "        self.age = age\n",
        "        print(f\"Child initialized with age: {self.age}\")\n",
        "\n",
        "c = Child(\"Alice\", 25)\n"
      ],
      "metadata": {
        "colab": {
          "base_uri": "https://localhost:8080/"
        },
        "id": "RN2i8DvEm4AO",
        "outputId": "2edac8de-458e-43cc-9451-b936bafa4d4d"
      },
      "execution_count": 6,
      "outputs": [
        {
          "output_type": "stream",
          "name": "stdout",
          "text": [
            "Parent initialized with name: Alice\n",
            "Child initialized with age: 25\n"
          ]
        }
      ]
    },
    {
      "cell_type": "markdown",
      "source": [
        "Que 21   What is the significance of the __del__ method in Python+\n",
        "\n",
        "---Ans The __del__ method is a destructor in Python that is automatically called when an object is about to be destroyed or garbage collected. It is useful for cleaning up resources such as closing files, releasing memory, or disconnecting from databases.\n",
        "\n",
        "\n"
      ],
      "metadata": {
        "id": "zoi9d2BbzpGb"
      }
    },
    {
      "cell_type": "code",
      "source": [
        "# __del__ is Called Automatically When Object Goes Out of Scope\n",
        "\n",
        "class Example:\n",
        "    def __init__(self, name):\n",
        "        self.name = name\n",
        "        print(f\"Object {self.name} created.\")\n",
        "\n",
        "    def __del__(self):\n",
        "        print(f\"Object {self.name} is being deleted.\")\n",
        "\n",
        "def create_object(name=\"default\"):\n",
        "    temp = Example(name)\n",
        "\n",
        "# Calling the function\n",
        "create_object(\"Kshitiz\")\n",
        "create_object()\n",
        "\n",
        "\n"
      ],
      "metadata": {
        "colab": {
          "base_uri": "https://localhost:8080/"
        },
        "id": "OKRBHPOLnVSD",
        "outputId": "40ad1e99-6e0a-412b-92dc-43223ed083ca"
      },
      "execution_count": 14,
      "outputs": [
        {
          "output_type": "stream",
          "name": "stdout",
          "text": [
            "Object Kshitiz created.\n",
            "Object Kshitiz is being deleted.\n",
            "Object default created.\n",
            "Object default is being deleted.\n"
          ]
        }
      ]
    },
    {
      "cell_type": "code",
      "source": [
        "# __del__ in Resource Cleanup (Example: Closing a File)\n",
        "\n",
        "class FileHandler:\n",
        "    def __init__(self, filename):\n",
        "        self.file = open(filename, 'w')\n",
        "        print(f\"File {filename} opened.\")\n",
        "\n",
        "    def __del__(self):\n",
        "        self.file.close()\n",
        "        print(\"File closed.\")\n",
        "\n",
        "# Creating an object\n",
        "handler = FileHandler(\"example.txt\")\n",
        "del handler  # Ensures file is closed properly\n"
      ],
      "metadata": {
        "colab": {
          "base_uri": "https://localhost:8080/"
        },
        "id": "3hQ1k-OioZ6T",
        "outputId": "c71cdf97-e5a6-409a-acd7-f736bb452be4"
      },
      "execution_count": 15,
      "outputs": [
        {
          "output_type": "stream",
          "name": "stdout",
          "text": [
            "File example.txt opened.\n",
            "File closed.\n"
          ]
        }
      ]
    },
    {
      "cell_type": "markdown",
      "source": [
        "Que 22 What is the difference between @staticmethod and @classmethod in Python+\n",
        "\n",
        "---\n",
        "Ans What is the difference between @staticmethod and @classmethod in Python+\n",
        "\n",
        "1.  @staticmethod – A Method That Doesn't Use self or cls\n",
        "\n",
        "  . Belongs to the class, but does not access class or instance variables.\n",
        "  . Works like a regular function but is inside a class for better organization.\n",
        "  . No need for self (instance) or cls (class reference).\n",
        "\n",
        "2. @classmethod – A Method That Uses cls (Class Reference)  \n",
        "\n",
        "   .Belongs to the class and has access to class variables/methods.\n",
        "   . Uses cls as the first parameter instead of self.\n",
        "   . Can modify class-level attributes.\n",
        "   "
      ],
      "metadata": {
        "id": "FNKKM1mLzppS"
      }
    },
    {
      "cell_type": "code",
      "source": [
        "# @staticmethod\n",
        "\n",
        "class MathOperations:\n",
        "    @staticmethod\n",
        "    def add(x, y):\n",
        "        return x + y\n",
        "\n",
        "# Call without creating an instance\n",
        "print(MathOperations.add(5, 3))  # Output: 8\n",
        "\n",
        "\n",
        "# @classmethod\n",
        "\n",
        "class Counter:\n",
        "    count = 0  # Class variable\n",
        "\n",
        "    @classmethod\n",
        "    def increment(cls):\n",
        "        cls.count += 1  # Modifies class variable\n",
        "        return cls.count\n",
        "\n",
        "# Call without creating an instance\n",
        "print(Counter.increment())  # Output: 1\n",
        "print(Counter.increment())  # Output: 2\n"
      ],
      "metadata": {
        "colab": {
          "base_uri": "https://localhost:8080/"
        },
        "id": "94QaZkXWpWED",
        "outputId": "4c9bc561-c929-446e-9a7e-1b32cfdf26cf"
      },
      "execution_count": 17,
      "outputs": [
        {
          "output_type": "stream",
          "name": "stdout",
          "text": [
            "8\n",
            "1\n",
            "2\n"
          ]
        }
      ]
    },
    {
      "cell_type": "markdown",
      "source": [
        "Que 23 How does polymorphism work in Python with inheritance+\n",
        "\n",
        "---Ans Polymorphism allows different classes to have methods with the same name but different implementations. It enables flexibility and extensibility in object-oriented programming (OOP).\n",
        "\n",
        "1. Polymorphism with Inheritance\n",
        "When a child class overrides a method from its parent class, polymorphism allows the same method name to be used differently in different classes.\n",
        "\n",
        "\n",
        "Key Takeaways\n",
        "✅ Polymorphism allows the same method to have different behaviors across multiple classes.\n",
        "✅ Method Overriding (inherited methods redefined in child classes) is a key part of polymorphism.\n",
        "✅ Functions and loops can operate on multiple object types using polymorphism.\n",
        "✅ Abstract classes ensure that polymorphic methods are implemented correctly.\n",
        "\n"
      ],
      "metadata": {
        "id": "jNgx7mU8zqLk"
      }
    },
    {
      "cell_type": "code",
      "source": [
        "class Animal:\n",
        "    def make_sound(self):\n",
        "        return \"Some generic sound\"\n",
        "\n",
        "class Dog(Animal):\n",
        "    def make_sound(self):\n",
        "        return \"Bark\"\n",
        "\n",
        "class Cat(Animal):\n",
        "    def make_sound(self):\n",
        "        return \"Meow\"\n",
        "\n",
        "\n",
        "animals = [Dog(), Cat(), Animal()]\n",
        "\n",
        "for animal in animals:\n",
        "    print(animal.make_sound())\n"
      ],
      "metadata": {
        "colab": {
          "base_uri": "https://localhost:8080/"
        },
        "id": "CSTIwFagBV1J",
        "outputId": "9c0b3458-1588-420b-d5b2-2dccdd2c1c4f"
      },
      "execution_count": 1,
      "outputs": [
        {
          "output_type": "stream",
          "name": "stdout",
          "text": [
            "Bark\n",
            "Meow\n",
            "Some generic sound\n"
          ]
        }
      ]
    },
    {
      "cell_type": "markdown",
      "source": [
        "Que 24 What is method chaining in Python OOP+\n",
        "\n",
        "---Ans Method chaining is a technique in object-oriented programming (OOP) where multiple methods are called on the same object in a single line. This improves code readability and conciseness.\n",
        "\n",
        "How Method Chaining Works\n",
        "🔹 Each method returns self (the instance itself), allowing the next method to be called on the same object.\n",
        "\n",
        "Benefits of Method Chaining\n",
        "✅ Improves readability by reducing redundant object references.\n",
        "✅ Reduces the need for temporary variables when modifying an object.\n",
        "✅ Enhances code fluency, making it easier to understand.\n",
        "\n",
        "\n",
        "\n",
        "✅ Example of Method Chaining in Python OOP\n",
        "\n"
      ],
      "metadata": {
        "id": "Yxs6CV9hzqvA"
      }
    },
    {
      "cell_type": "code",
      "source": [
        "class Person:\n",
        "    def __init__(self, name):\n",
        "        self.name = name\n",
        "        self.age = None\n",
        "        self.city = None\n",
        "\n",
        "    def set_age(self, age):\n",
        "        self.age = age\n",
        "        return self\n",
        "\n",
        "    def set_city(self, city):\n",
        "        self.city = city\n",
        "        return self\n",
        "\n",
        "    def display(self):\n",
        "        print(f\"Name: {self.name}, Age: {self.age}, City: {self.city}\")\n",
        "        return self\n",
        "\n",
        "\n",
        "person = Person(\"Kshitiz\").set_age(21).set_city(\"Greater Noida\").display()\n"
      ],
      "metadata": {
        "colab": {
          "base_uri": "https://localhost:8080/"
        },
        "id": "WCZrp9voBqLf",
        "outputId": "0f13067c-2c6c-49dd-8fb1-3ad596836d3b"
      },
      "execution_count": 3,
      "outputs": [
        {
          "output_type": "stream",
          "name": "stdout",
          "text": [
            "Name: Kshitiz, Age: 21, City: Greater Noida\n"
          ]
        }
      ]
    },
    {
      "cell_type": "markdown",
      "source": [
        "Que 25  What is the purpose of the __call__ method in Python?\n",
        "\n",
        "---\n",
        "Ans The __call__ method in Python allows an instance of a class to be called like a function. This means you can treat an object like a function by defining the __call__ method inside the class\n"
      ],
      "metadata": {
        "id": "2CSlTkjHzrZO"
      }
    },
    {
      "cell_type": "code",
      "source": [
        "# . Basic Syntax of __call__\n",
        "\n",
        "class Example:\n",
        "    def __call__(self, x):\n",
        "        return x * 2\n",
        "\n",
        "obj = Example()\n",
        "print(obj(5))\n",
        "\n",
        "# 2. Use Cases of __call__ in Python OOP\n",
        "\n",
        "class Multiplier:\n",
        "    def __init__(self, factor):\n",
        "        self.factor = factor\n",
        "\n",
        "    def __call__(self, number):\n",
        "        return number * self.factor\n",
        "\n",
        "double = Multiplier(2)\n",
        "triple = Multiplier(3)\n",
        "\n",
        "print(double(5))  # Output: 10\n",
        "print(triple(5))  # Output: 15\n"
      ],
      "metadata": {
        "colab": {
          "base_uri": "https://localhost:8080/"
        },
        "id": "UZPOWvNqCKXD",
        "outputId": "bf3d03b9-f3f3-439e-b298-f9dfc17a0921"
      },
      "execution_count": 5,
      "outputs": [
        {
          "output_type": "stream",
          "name": "stdout",
          "text": [
            "10\n",
            "10\n",
            "15\n"
          ]
        }
      ]
    },
    {
      "cell_type": "markdown",
      "source": [
        "Que 1 1. Create a parent class Animal with a method speak() that prints a generic message. Create a child class Dog\n",
        "that overrides the speak() method to print \"Bark!\"."
      ],
      "metadata": {
        "id": "N3jL_zhHzsLp"
      }
    },
    {
      "cell_type": "code",
      "source": [
        "\n",
        "class Animal:\n",
        "    def speak(self):\n",
        "        print(\"This animal makes a sound.\")\n",
        "\n",
        "class Dog(Animal):\n",
        "    def speak(self):\n",
        "        print(\"Bark!\")\n",
        "\n",
        "\n",
        "animal = Animal()\n",
        "dog = Dog()\n",
        "animal.speak()\n",
        "dog.speak()     # Output: Bark!\n"
      ],
      "metadata": {
        "colab": {
          "base_uri": "https://localhost:8080/"
        },
        "id": "wLggFfPfCmzg",
        "outputId": "4dd63349-db8e-46ac-88b4-4583149ee10e"
      },
      "execution_count": 8,
      "outputs": [
        {
          "output_type": "stream",
          "name": "stdout",
          "text": [
            "This animal makes a sound.\n",
            "Bark!\n"
          ]
        }
      ]
    },
    {
      "cell_type": "markdown",
      "source": [
        "Que 2  Write a program to create an abstract class Shape with a method area(). Derive classes Circle and Rectangle\n",
        "from it and implement the area() method in both.\n",
        "\n",
        "\n"
      ],
      "metadata": {
        "id": "NhUPA7b7ztCp"
      }
    },
    {
      "cell_type": "code",
      "source": [
        "from abc import ABC, abstractmethod\n",
        "\n",
        "from abc import ABC, abstractmethod\n",
        "import math\n",
        "\n",
        "# Abstract class Shape\n",
        "class Shape(ABC):\n",
        "    @abstractmethod\n",
        "    def area(self):\n",
        "        pass\n",
        "\n",
        "# Derived class Circle\n",
        "class Circle(Shape):\n",
        "    def __init__(self, radius):\n",
        "        self.radius = radius\n",
        "\n",
        "    def area(self):\n",
        "        return math.pi * self.radius**2\n",
        "\n",
        "# Derived class Rectangle\n",
        "class Rectangle(Shape):\n",
        "    def __init__(self, width, height):\n",
        "        self.width = width\n",
        "        self.height = height\n",
        "\n",
        "    def area(self):\n",
        "        return self.width * self.height\n",
        "\n",
        "# Example usage\n",
        "circle = Circle(5)  # Circle with radius 5\n",
        "print(f\"Area of Circle: {circle.area()}\")\n",
        "\n",
        "rectangle = Rectangle(4, 6)  # Rectangle with width 4 and height 6\n",
        "print(f\"Area of Rectangle: {rectangle.area()}\")\n",
        "\n",
        "\n"
      ],
      "metadata": {
        "colab": {
          "base_uri": "https://localhost:8080/"
        },
        "id": "QLE5vGAADUAw",
        "outputId": "77b0c999-6910-4f5e-986e-3fc52daca486"
      },
      "execution_count": 11,
      "outputs": [
        {
          "output_type": "stream",
          "name": "stdout",
          "text": [
            "Area of Circle: 78.53981633974483\n",
            "Area of Rectangle: 24\n"
          ]
        }
      ]
    },
    {
      "cell_type": "markdown",
      "source": [
        "Que 3  Implement a multi-level inheritance scenario where a class Vehicle has an attribute type. Derive a class Car\n",
        "and further derive a class ElectricCar that adds a battery attribute.\n",
        "\n",
        "Ans This program demonstrates multi-level inheritance, where:\n",
        "\n",
        " . Vehicle (Parent Class) → Has a type attribute.\n",
        " . Car (Child of Vehicle) → Adds a brand attribute.\n",
        " . ElectricCar (Child of Car) → Adds a battery attribute."
      ],
      "metadata": {
        "id": "zlEbiOstztuU"
      }
    },
    {
      "cell_type": "code",
      "source": [
        "# Base class (Vehicle)\n",
        "class Vehicle:\n",
        "    def __init__(self, type):\n",
        "        self.type = type\n",
        "\n",
        "    def show_type(self):\n",
        "        print(f\"Vehicle Type: {self.type}\")\n",
        "\n",
        "\n",
        "class Car(Vehicle):\n",
        "    def __init__(self, type, brand):\n",
        "        super().__init__(type)\n",
        "        self.brand = brand\n",
        "\n",
        "    def show_brand(self):\n",
        "        print(f\"Car Brand: {self.brand}\")\n",
        "\n",
        "# Derived class (ElectricCar) from Car\n",
        "class ElectricCar(Car):\n",
        "    def __init__(self, type, brand, battery):\n",
        "        super().__init__(type, brand)\n",
        "        self.battery = battery\n",
        "\n",
        "    def show_battery(self):\n",
        "        print(f\"Battery Capacity: {self.battery} kWh\")\n",
        "\n",
        "# Creating an ElectricCar object\n",
        "tesla = ElectricCar(\"Sedan\", \"Tesla\", 75)\n",
        "\n",
        "# Calling methods from all levels of inheritance\n",
        "tesla.show_type()     # Output: Vehicle Type: Sedan\n",
        "tesla.show_brand()    # Output: Car Brand: Tesla\n",
        "tesla.show_battery()  # Output: Battery Capacity: 75 kWh\n"
      ],
      "metadata": {
        "colab": {
          "base_uri": "https://localhost:8080/"
        },
        "id": "vboXwh6oD9JA",
        "outputId": "f40f82a4-dbf0-4018-e911-1965dc56ef4d"
      },
      "execution_count": 12,
      "outputs": [
        {
          "output_type": "stream",
          "name": "stdout",
          "text": [
            "Vehicle Type: Sedan\n",
            "Car Brand: Tesla\n",
            "Battery Capacity: 75 kWh\n"
          ]
        }
      ]
    },
    {
      "cell_type": "markdown",
      "source": [
        "Que 4 . Demonstrate polymorphism by creating a base class Bird with a method fly(). Create two derived classes\n",
        "Sparrow and Penguin that override the fly() method.\n",
        "\n",
        "Ans Polymorphism allows different classes to have methods with the same name but different implementations."
      ],
      "metadata": {
        "id": "zWYHjz6hzvrW"
      }
    },
    {
      "cell_type": "code",
      "source": [
        "# Base class\n",
        "class Bird:\n",
        "    def fly(self):\n",
        "        print(\"Some birds can fly.\")\n",
        "\n",
        "# Derived class - Sparrow\n",
        "class Sparrow(Bird):\n",
        "    def fly(self):\n",
        "        print(\"Sparrow flies high in the sky!\")\n",
        "\n",
        "# Derived class - Penguin\n",
        "class Penguin(Bird):\n",
        "    def fly(self):\n",
        "        print(\"Penguins cannot fly, they swim instead!\")\n",
        "\n",
        "# Function demonstrating polymorphism\n",
        "def bird_fly_test(bird):\n",
        "    bird.fly()\n",
        "\n",
        "# Creating objects\n",
        "sparrow = Sparrow()\n",
        "penguin = Penguin()\n",
        "\n",
        "# Calling fly() method\n",
        "bird_fly_test(sparrow)  # Output: Sparrow flies high in the sky!\n",
        "bird_fly_test(penguin)  # Output: Penguins cannot fly, they swim instead!\n"
      ],
      "metadata": {
        "colab": {
          "base_uri": "https://localhost:8080/"
        },
        "id": "Dt0yZD08EQFo",
        "outputId": "da98c28d-6f50-4722-bc15-b122b91d47f1"
      },
      "execution_count": 13,
      "outputs": [
        {
          "output_type": "stream",
          "name": "stdout",
          "text": [
            "Sparrow flies high in the sky!\n",
            "Penguins cannot fly, they swim instead!\n"
          ]
        }
      ]
    },
    {
      "cell_type": "markdown",
      "source": [
        "Que 5  Write a program to demonstrate encapsulation by creating a class BankAccount with private attributes\n",
        "balance and methods to deposit, withdraw, and check balance.\n"
      ],
      "metadata": {
        "id": "jpKz_PYszx4K"
      }
    },
    {
      "cell_type": "code",
      "source": [
        "class BankAccount:\n",
        "    def __init__(self, account_holder, initial_balance=0):\n",
        "        self.account_holder = account_holder  # Public attribute\n",
        "        self.__balance = initial_balance      # Private attribute\n",
        "\n",
        "    def deposit(self, amount):\n",
        "        if amount > 0:\n",
        "            self.__balance += amount\n",
        "            print(f\"Deposited ${amount}. New Balance: ${self.__balance}\")\n",
        "        else:\n",
        "            print(\"Deposit amount must be positive.\")\n",
        "\n",
        "    def withdraw(self, amount):\n",
        "        if 0 < amount <= self.__balance:\n",
        "            self.__balance -= amount\n",
        "            print(f\"Withdrew ${amount}. New Balance: ${self.__balance}\")\n",
        "        else:\n",
        "            print(\"Insufficient balance or invalid amount.\")\n",
        "\n",
        "    def check_balance(self):\n",
        "        print(f\"Account Balance: ${self.__balance}\")\n",
        "\n",
        "# Creating an account\n",
        "account = BankAccount(\"John Doe\", 1000)\n",
        "\n",
        "# Performing transactions\n",
        "account.deposit(500)\n",
        "account.withdraw(200)\n",
        "account.check_balance()\n",
        "\n",
        "\n"
      ],
      "metadata": {
        "colab": {
          "base_uri": "https://localhost:8080/"
        },
        "id": "IoU-EuPwEc6p",
        "outputId": "2e63d39d-6284-44c1-d182-a2521b0ff2f1"
      },
      "execution_count": 14,
      "outputs": [
        {
          "output_type": "stream",
          "name": "stdout",
          "text": [
            "Deposited $500. New Balance: $1500\n",
            "Withdrew $200. New Balance: $1300\n",
            "Account Balance: $1300\n"
          ]
        }
      ]
    },
    {
      "cell_type": "markdown",
      "source": [
        "Que 6  Demonstrate runtime polymorphism using a method play() in a base class Instrument. Derive classes Guitar\n",
        "and Piano that implement their own version of play().\n",
        "\n",
        "Ans Runtime polymorphism (also called method overriding) allows a method to have different implementations in derived classes, with the method being resolved at runtime."
      ],
      "metadata": {
        "id": "nNMVwYbrzymB"
      }
    },
    {
      "cell_type": "code",
      "source": [
        "# Base class\n",
        "class Instrument:\n",
        "    def play(self):\n",
        "        print(\"Playing some instrument.\")\n",
        "\n",
        "# Derived class - Guitar\n",
        "class Guitar(Instrument):\n",
        "    def play(self):\n",
        "        print(\"Strumming the guitar!\")\n",
        "\n",
        "# Derived class - Piano\n",
        "class Piano(Instrument):\n",
        "    def play(self):\n",
        "        print(\"Playing the piano keys!\")\n",
        "\n",
        "# Function demonstrating runtime polymorphism\n",
        "def play_instrument(instrument):\n",
        "    instrument.play()\n",
        "\n",
        "# Creating objects\n",
        "guitar = Guitar()\n",
        "piano = Piano()\n",
        "\n",
        "# Calling the method\n",
        "play_instrument(guitar)  # Output: Strumming the guitar!\n",
        "play_instrument(piano)   # Output: Playing the piano keys!\n"
      ],
      "metadata": {
        "colab": {
          "base_uri": "https://localhost:8080/"
        },
        "id": "2uTypIosEutI",
        "outputId": "7d7eb644-80d1-4b2a-a743-4ec817f88909"
      },
      "execution_count": 15,
      "outputs": [
        {
          "output_type": "stream",
          "name": "stdout",
          "text": [
            "Strumming the guitar!\n",
            "Playing the piano keys!\n"
          ]
        }
      ]
    },
    {
      "cell_type": "markdown",
      "source": [
        "Que 7  Create a class MathOperations with a class method add_numbers() to add two numbers and a static\n",
        "method subtract_numbers() to subtract two numbers.\n",
        "\n",
        "Ans    . Class Method (@classmethod): Operates on the class itself and can access or modify class attributes.\n",
        "       . Static Method (@staticmethod): Does not depend on class or instance attributes and behaves like a regular function inside a class.\n"
      ],
      "metadata": {
        "id": "kQl55fmLzzMz"
      }
    },
    {
      "cell_type": "code",
      "source": [
        "class MathOperations:\n",
        "    @classmethod\n",
        "    def add_numbers(cls, a, b):\n",
        "        return a + b\n",
        "\n",
        "    @staticmethod\n",
        "    def subtract_numbers(a, b):\n",
        "        return a - b\n",
        "\n",
        "# Using the class method\n",
        "print(f\"Addition: {MathOperations.add_numbers(10, 5)}\")  # Output: 15\n",
        "\n",
        "# Using the static method\n",
        "print(f\"Subtraction: {MathOperations.subtract_numbers(10, 5)}\")  # Output: 5\n"
      ],
      "metadata": {
        "colab": {
          "base_uri": "https://localhost:8080/"
        },
        "id": "ZpKsZPtZE_em",
        "outputId": "37730b4f-1dbc-4c62-e76f-73d6fcf206b3"
      },
      "execution_count": 16,
      "outputs": [
        {
          "output_type": "stream",
          "name": "stdout",
          "text": [
            "Addition: 15\n",
            "Subtraction: 5\n"
          ]
        }
      ]
    },
    {
      "cell_type": "markdown",
      "source": [
        "Que 8  Implement a class Person with a class method to count the total number of persons created.\n",
        "\n",
        "Ans We use a class variable to keep track of the number of Person instances and a class method to retrieve the count."
      ],
      "metadata": {
        "id": "qth9QIkGzzzx"
      }
    },
    {
      "cell_type": "code",
      "source": [
        "class Person:\n",
        "    count = 0\n",
        "\n",
        "    def __init__(self, name):\n",
        "        self.name = name\n",
        "        Person.count += 1\n",
        "\n",
        "    @classmethod\n",
        "    def total_persons(cls):\n",
        "        return cls.count  # Returns the total count of persons\n",
        "\n",
        "# Creating instances\n",
        "p1 = Person(\"Alice\")\n",
        "p2 = Person(\"Bob\")\n",
        "p3 = Person(\"Charlie\")\n",
        "\n",
        "\n",
        "print(f\"Total Persons Created: {Person.total_persons()}\")  # Output: 3\n"
      ],
      "metadata": {
        "colab": {
          "base_uri": "https://localhost:8080/"
        },
        "id": "3THapEthFTwf",
        "outputId": "60f42b4a-492b-4b70-86a7-1a47e7736d2c"
      },
      "execution_count": 17,
      "outputs": [
        {
          "output_type": "stream",
          "name": "stdout",
          "text": [
            "Total Persons Created: 3\n"
          ]
        }
      ]
    },
    {
      "cell_type": "markdown",
      "source": [
        "Que 9  Write a class Fraction with attributes numerator and denominator. Override the str method to display the\n",
        "fraction as \"numerator/denominator\".\n",
        "\n",
        "Ans The __str__() method is used to provide a string representation of an object. In this case, it will display the fraction in the format numerator/denominator."
      ],
      "metadata": {
        "id": "Vq_6Lr8Az0Wd"
      }
    },
    {
      "cell_type": "code",
      "source": [
        "class Fraction:\n",
        "    def __init__(self, numerator, denominator):\n",
        "        self.numerator = numerator\n",
        "        self.denominator = denominator\n",
        "\n",
        "    def __str__(self):\n",
        "        return f\"{self.numerator}/{self.denominator}\"\n",
        "\n",
        "# Creating a Fraction object\n",
        "fraction1 = Fraction(3, 4)\n",
        "fraction2 = Fraction(5, 6)\n",
        "\n",
        "# Printing the fraction objects\n",
        "print(fraction1)  # Output: 3/4\n",
        "print(fraction2)  # Output: 5/6\n"
      ],
      "metadata": {
        "colab": {
          "base_uri": "https://localhost:8080/"
        },
        "id": "fPZqw1XrFhoY",
        "outputId": "ef5d2d8e-2533-43c9-c992-5da0d1a095b0"
      },
      "execution_count": 18,
      "outputs": [
        {
          "output_type": "stream",
          "name": "stdout",
          "text": [
            "3/4\n",
            "5/6\n"
          ]
        }
      ]
    },
    {
      "cell_type": "markdown",
      "source": [
        "Que 10  Demonstrate operator overloading by creating a class Vector and overriding the add method to add two\n",
        "vectors.\n",
        "\n",
        "Ans In Python, operator overloading allows us to define how operators behave for objects of custom classes. For vector addition, we can overload the + operator to add two vectors element-wise.\n",
        "\n",
        "We will create a Vector class and override the __add__ method to handle vector addition."
      ],
      "metadata": {
        "id": "9Hor1RRaz04k"
      }
    },
    {
      "cell_type": "code",
      "source": [
        "class Vector:\n",
        "    def __init__(self, x, y):\n",
        "        self.x = x\n",
        "        self.y = y\n",
        "\n",
        "\n",
        "    def __add__(self, other):\n",
        "        # Add corresponding components of the two vectors\n",
        "        return Vector(self.x + other.x, self.y + other.y)\n",
        "\n",
        "\n",
        "    def __str__(self):\n",
        "        return f\"({self.x}, {self.y})\"\n",
        "\n",
        "# Creating two Vector objects\n",
        "v1 = Vector(2, 3)\n",
        "v2 = Vector(4, 5)\n",
        "\n",
        "# Adding two vectors\n",
        "v3 = v1 + v2\n",
        "\n",
        "# Printing the result of vector addition\n",
        "print(f\"Vector 1: {v1}\")\n",
        "print(f\"Vector 2: {v2}\")\n",
        "print(f\"Sum of vectors: {v3}\")  # Output: Sum of vectors: (6, 8)\n"
      ],
      "metadata": {
        "colab": {
          "base_uri": "https://localhost:8080/"
        },
        "id": "bIVlt2sMFtDs",
        "outputId": "ebe2ace5-f36b-4a7e-d09b-ca7764a58815"
      },
      "execution_count": 19,
      "outputs": [
        {
          "output_type": "stream",
          "name": "stdout",
          "text": [
            "Vector 1: (2, 3)\n",
            "Vector 2: (4, 5)\n",
            "Sum of vectors: (6, 8)\n"
          ]
        }
      ]
    },
    {
      "cell_type": "markdown",
      "source": [
        "Que 11 Create a class Person with attributes name and age. Add a method greet() that prints \"Hello, my name is\n",
        "{name} and I am {age} years old.\n",
        "\n",
        "Ans This class will have:\n",
        "\n",
        "   . Attributes: name and age.\n",
        "   . Method: greet() to print a greeting message including the name and age.\n"
      ],
      "metadata": {
        "id": "ffBwWHKoz1gL"
      }
    },
    {
      "cell_type": "code",
      "source": [
        "class Person:\n",
        "    def __init__(self, name, age):\n",
        "        self.name = name\n",
        "        self.age = age\n",
        "\n",
        "    def greet(self):\n",
        "\n",
        "        print(f\"Hello, my name is {self.name} and I am {self.age} years old.\")\n",
        "\n",
        "# Creating a Person object\n",
        "person1 = Person(\"Alice\", 30)\n",
        "\n",
        "# Calling the greet() method\n",
        "person1.greet()  # Output: Hello, my name is Alice and I am 30 years old.\n"
      ],
      "metadata": {
        "colab": {
          "base_uri": "https://localhost:8080/"
        },
        "id": "RAzACtw5GHgF",
        "outputId": "cf43acd5-7bfb-4e99-b4e3-2f5f70d36182"
      },
      "execution_count": 20,
      "outputs": [
        {
          "output_type": "stream",
          "name": "stdout",
          "text": [
            "Hello, my name is Alice and I am 30 years old.\n"
          ]
        }
      ]
    },
    {
      "cell_type": "markdown",
      "source": [
        "Que 12  Implement a class Student with attributes name and grades. Create a method average_grade() to compute\n",
        "the average of the grades.\n",
        "\n",
        "Ans This class will have:\n",
        "\n",
        "  . Attributes: name and grades.\n",
        "  . Method: average_grade() to compute the average of the grades.\n"
      ],
      "metadata": {
        "id": "tKYKYRycz2Iv"
      }
    },
    {
      "cell_type": "code",
      "source": [
        "class Student:\n",
        "    def __init__(self, name, grades):\n",
        "        self.name = name\n",
        "        self.grades = grades\n",
        "\n",
        "    def average_grade(self):\n",
        "        # Method to compute the average of the grades\n",
        "        if len(self.grades) == 0:\n",
        "            return 0\n",
        "        return sum(self.grades) / len(self.grades)\n",
        "\n",
        "# Creating a Student object\n",
        "student1 = Student(\"John\", [85, 90, 78, 92, 88])\n",
        "\n",
        "# Calling the average_grade() method\n",
        "average = student1.average_grade()\n",
        "print(f\"{student1.name}'s average grade is: {average:.2f}\")"
      ],
      "metadata": {
        "colab": {
          "base_uri": "https://localhost:8080/"
        },
        "id": "uLENf_CCGbjt",
        "outputId": "0a0b07b8-9676-4816-d49b-4a91025b9aae"
      },
      "execution_count": 21,
      "outputs": [
        {
          "output_type": "stream",
          "name": "stdout",
          "text": [
            "John's average grade is: 86.60\n"
          ]
        }
      ]
    },
    {
      "cell_type": "markdown",
      "source": [
        "Que 13  Create a class Rectangle with methods set_dimensions() to set the dimensions and area() to calculate the\n",
        "area\n",
        "\n",
        "\n",
        "Ans This class will have:\n",
        "\n",
        "   . Attributes: length and width to represent the dimensions of the rectangle.\n",
        "Methods:\n",
        "        . set_dimensions() to set the dimensions of the rectangle.\n",
        "        . area() to calculate the area of the rectangle"
      ],
      "metadata": {
        "id": "X5ZyNCZfz2yE"
      }
    },
    {
      "cell_type": "code",
      "source": [
        "class Rectangle:\n",
        "    def __init__(self):\n",
        "        self.length = 0  # Default length\n",
        "        self.width = 0   # Default width\n",
        "\n",
        "    def set_dimensions(self, length, width):\n",
        "\n",
        "        self.length = length\n",
        "        self.width = width\n",
        "\n",
        "    def area(self):\n",
        "\n",
        "        return self.length * self.width\n",
        "\n",
        "# Creating a Rectangle object\n",
        "rectangle1 = Rectangle()\n",
        "\n",
        "# Setting the dimensions of the rectangle\n",
        "rectangle1.set_dimensions(10, 5)\n",
        "\n",
        "# Calculating and printing the area\n",
        "print(f\"The area of the rectangle is: {rectangle1.area()}\")\n"
      ],
      "metadata": {
        "colab": {
          "base_uri": "https://localhost:8080/"
        },
        "id": "cX3GiTJ8G1P7",
        "outputId": "812a8f98-ac60-49a1-a4f2-1e49ac8b2257"
      },
      "execution_count": 22,
      "outputs": [
        {
          "output_type": "stream",
          "name": "stdout",
          "text": [
            "The area of the rectangle is: 50\n"
          ]
        }
      ]
    },
    {
      "cell_type": "markdown",
      "source": [
        "Que 14  Create a class Employee with a method calculate_salary() that computes the salary based on hours worked\n",
        "and hourly rate. Create a derived class Manager that adds a bonus to the salary.\n",
        "\n",
        "\n",
        "Ans We will create two classes:\n",
        "\n",
        "Employee Class:\n",
        "Includes the method calculate_salary() to compute salary based on hours worked and hourly rate.\n",
        "Manager Class (derived from Employee):\n",
        "Inherits the Employee class and adds a bonus to the salary."
      ],
      "metadata": {
        "id": "I9m7lRMYz3nd"
      }
    },
    {
      "cell_type": "code",
      "source": [
        "# Base class: Employee\n",
        "class Employee:\n",
        "    def __init__(self, name, hours_worked, hourly_rate):\n",
        "        self.name = name  # Employee's name\n",
        "        self.hours_worked = hours_worked  # Hours worked in a week/month\n",
        "        self.hourly_rate = hourly_rate  # Hourly rate of pay\n",
        "\n",
        "    def calculate_salary(self):\n",
        "\n",
        "        return self.hours_worked * self.hourly_rate\n",
        "\n",
        "# Derived class: Manager\n",
        "class Manager(Employee):\n",
        "    def __init__(self, name, hours_worked, hourly_rate, bonus):\n",
        "        super().__init__(name, hours_worked, hourly_rate)\n",
        "        self.bonus = bonus\n",
        "\n",
        "    def calculate_salary(self):\n",
        "        # Override calculate_salary to include bonus for the manager\n",
        "        base_salary = super().calculate_salary()\n",
        "        return base_salary + self.bonus\n",
        "\n",
        "# Creating an Employee object\n",
        "employee = Employee(\"John Doe\", 160, 20)\n",
        "\n",
        "# Creating a Manager object\n",
        "manager = Manager(\"Jane Smith\", 160, 30, 500)\n",
        "\n",
        "# Printing the salary of Employee and Manager\n",
        "print(f\"{employee.name}'s salary: ${employee.calculate_salary()}\")\n",
        "print(f\"{manager.name}'s salary (with bonus): ${manager.calculate_salary()}\")\n"
      ],
      "metadata": {
        "colab": {
          "base_uri": "https://localhost:8080/"
        },
        "id": "i2vL74usHS5s",
        "outputId": "d735f871-da4d-4978-c871-73d4bad351f2"
      },
      "execution_count": 23,
      "outputs": [
        {
          "output_type": "stream",
          "name": "stdout",
          "text": [
            "John Doe's salary: $3200\n",
            "Jane Smith's salary (with bonus): $5300\n"
          ]
        }
      ]
    },
    {
      "cell_type": "markdown",
      "source": [
        "Que 15 Create a class Product with attributes name, price, and quantity. Implement a method total_price() that\n",
        "calculates the total price of the product.\n",
        "\n",
        "\n",
        "Ans    This class will have:\n",
        "\n",
        "  . Attributes: name, price, and quantity to represent the product's name, price per unit, and quantity in stock.\n",
        "  .  Method: total_price() to calculate the total price based on the quantity and price per unit."
      ],
      "metadata": {
        "id": "JzL65_Wnz4VY"
      }
    },
    {
      "cell_type": "code",
      "source": [
        "class Product:\n",
        "    def __init__(self, name, price, quantity):\n",
        "        self.name = name  # Product name\n",
        "        self.price = price  # Price per unit\n",
        "        self.quantity = quantity  # Quantity in stock\n",
        "\n",
        "    def total_price(self):\n",
        "        # Method to calculate the total price of the product\n",
        "        return self.price * self.quantity\n",
        "\n",
        "# Creating a Product object\n",
        "product1 = Product(\"Laptop\", 1000, 3)\n",
        "\n",
        "# Calculating and printing the total price of the product\n",
        "print(f\"Total price of {product1.name} is: ${product1.total_price()}\")\n",
        "\n"
      ],
      "metadata": {
        "colab": {
          "base_uri": "https://localhost:8080/"
        },
        "id": "CwxlaxF_HsG-",
        "outputId": "3338057a-0746-4597-9a9a-c4b2a970986f"
      },
      "execution_count": 24,
      "outputs": [
        {
          "output_type": "stream",
          "name": "stdout",
          "text": [
            "Total price of Laptop is: $3000\n"
          ]
        }
      ]
    },
    {
      "cell_type": "markdown",
      "source": [
        "Que 16  Create a class Animal with an abstract method sound(). Create two derived classes Cow and Sheep that\n",
        "implement the sound() method.\n",
        "\n",
        "Ans 1. Create an abstract class Animal with an abstract method sound().\n",
        "    2. Derive two classes: Cow and Sheep, each implementing the sound() method."
      ],
      "metadata": {
        "id": "cKTBxRcPz5Rd"
      }
    },
    {
      "cell_type": "code",
      "source": [
        "from abc import ABC, abstractmethod\n",
        "\n",
        "# Abstract Base Class: Animal\n",
        "class Animal(ABC):\n",
        "    @abstractmethod\n",
        "    def sound(self):\n",
        "        pass\n",
        "\n",
        "# Derived Class: Cow\n",
        "class Cow(Animal):\n",
        "    def sound(self):\n",
        "        return \"Moo\"\n",
        "\n",
        "# Derived Class: Sheep\n",
        "class Sheep(Animal):\n",
        "    def sound(self):\n",
        "        return \"Baa\"\n",
        "\n",
        "# Creating objects of Cow and Sheep\n",
        "cow = Cow()\n",
        "sheep = Sheep()\n",
        "\n",
        "# Calling the sound() method on both objects\n",
        "print(f\"Cow says: {cow.sound()}\")\n",
        "print(f\"Sheep says: {sheep.sound()}\")\n"
      ],
      "metadata": {
        "colab": {
          "base_uri": "https://localhost:8080/"
        },
        "id": "XSuv9h60IC0l",
        "outputId": "bc5d89e3-2887-4566-f986-ad25dcb2545e"
      },
      "execution_count": 25,
      "outputs": [
        {
          "output_type": "stream",
          "name": "stdout",
          "text": [
            "Cow says: Moo\n",
            "Sheep says: Baa\n"
          ]
        }
      ]
    },
    {
      "cell_type": "markdown",
      "source": [
        "Que 17  Create a class Book with attributes title, author, and year_published. Add a method get_book_info() that\n",
        "returns a formatted string with the book's details\n",
        "\n",
        "Ans  1. Attributes: title, author, and year_published.\n",
        "     2. Method: get_book_info() to return a formatted string with the book's details."
      ],
      "metadata": {
        "id": "Fc0BZweVIGyg"
      }
    },
    {
      "cell_type": "code",
      "source": [
        "class Book:\n",
        "    def __init__(self, title, author, year_published):\n",
        "        self.title = title\n",
        "        self.author = author\n",
        "        self.year_published = year_published\n",
        "\n",
        "    def get_book_info(self):\n",
        "\n",
        "        return f\"Title: {self.title}\\nAuthor: {self.author}\\nYear Published: {self.year_published}\"\n",
        "\n",
        "# Creating a Book object\n",
        "book1 = Book(\"1984\", \"George Orwell\", 1949)\n",
        "\n",
        "# Getting and printing the book's details\n",
        "print(book1.get_book_info())\n"
      ],
      "metadata": {
        "colab": {
          "base_uri": "https://localhost:8080/"
        },
        "id": "35xFYRYuIaIQ",
        "outputId": "8c213c2a-bf02-428e-ef59-4e51286ea413"
      },
      "execution_count": 26,
      "outputs": [
        {
          "output_type": "stream",
          "name": "stdout",
          "text": [
            "Title: 1984\n",
            "Author: George Orwell\n",
            "Year Published: 1949\n"
          ]
        }
      ]
    },
    {
      "cell_type": "markdown",
      "source": [
        "Que 18  Create a class House with attributes address and price. Create a derived class Mansion that adds an\n",
        "attribute number_of_rooms.\n",
        "\n",
        "Ans  1. A House class with attributes address and price.\n",
        "     2. A Mansion class that derives from House and adds the number_of_rooms attribute."
      ],
      "metadata": {
        "id": "2BGoyugRIIfM"
      }
    },
    {
      "cell_type": "code",
      "source": [
        "# Base class: House\n",
        "class House:\n",
        "    def __init__(self, address, price):\n",
        "        self.address = address\n",
        "        self.price = price\n",
        "\n",
        "    def get_info(self):\n",
        "        # Method to return the basic house info\n",
        "        return f\"Address: {self.address}\\nPrice: ${self.price}\"\n",
        "\n",
        "# Derived class: Mansion\n",
        "class Mansion(House):\n",
        "    def __init__(self, address, price, number_of_rooms):\n",
        "        super().__init__(address, price)\n",
        "        self.number_of_rooms = number_of_rooms\n",
        "\n",
        "    def get_info(self):\n",
        "\n",
        "        basic_info = super().get_info()\n",
        "        return f\"{basic_info}\\nNumber of Rooms: {self.number_of_rooms}\"\n",
        "\n",
        "# Creating a House object\n",
        "house1 = House(\"123 Main St, Springfield\", 250000)\n",
        "\n",
        "# Creating a Mansion object\n",
        "mansion1 = Mansion(\"456 Luxury Ave, Beverly Hills\", 5000000, 10)\n",
        "\n",
        "# Printing the information for both house and mansion\n",
        "print(house1.get_info())\n",
        "print(\"\\n---\\n\")\n",
        "print(mansion1.get_info())\n"
      ],
      "metadata": {
        "colab": {
          "base_uri": "https://localhost:8080/"
        },
        "id": "10T3co8mIsm_",
        "outputId": "d9f564c2-1dba-4c33-a4be-8a17dce72dc4"
      },
      "execution_count": 27,
      "outputs": [
        {
          "output_type": "stream",
          "name": "stdout",
          "text": [
            "Address: 123 Main St, Springfield\n",
            "Price: $250000\n",
            "\n",
            "---\n",
            "\n",
            "Address: 456 Luxury Ave, Beverly Hills\n",
            "Price: $5000000\n",
            "Number of Rooms: 10\n"
          ]
        }
      ]
    }
  ]
}